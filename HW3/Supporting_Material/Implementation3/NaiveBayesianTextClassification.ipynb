{
  "nbformat": 4,
  "nbformat_minor": 0,
  "metadata": {
    "colab": {
      "name": "Welcome_To_Colaboratory(3).ipynb",
      "provenance": [],
      "collapsed_sections": [],
      "toc_visible": true
    },
    "kernelspec": {
      "display_name": "Python 3",
      "name": "python3"
    }
  },
  "cells": [
    {
      "cell_type": "markdown",
      "metadata": {
        "id": "5xUDYfvHNjtk",
        "colab_type": "text"
      },
      "source": [
        "# Preparinig Data"
      ]
    },
    {
      "cell_type": "markdown",
      "metadata": {
        "id": "kwsi8-yfNzEd",
        "colab_type": "text"
      },
      "source": [
        "**Import Library**\n",
        "\n",
        "---\n",
        "\n"
      ]
    },
    {
      "cell_type": "code",
      "metadata": {
        "id": "WJoibJJRmEWL",
        "colab_type": "code",
        "colab": {}
      },
      "source": [
        "import pandas as pd\n",
        "import numpy as np\n",
        "import math\n",
        "from sklearn.feature_extraction.text import CountVectorizer"
      ],
      "execution_count": 0,
      "outputs": []
    },
    {
      "cell_type": "markdown",
      "metadata": {
        "id": "JXN6dVAEOBMj",
        "colab_type": "text"
      },
      "source": [
        "**Reading Train Data & Stopwords**\n",
        "\n",
        "---\n",
        "\n"
      ]
    },
    {
      "cell_type": "code",
      "metadata": {
        "id": "RizjeuQam1mX",
        "colab_type": "code",
        "colab": {}
      },
      "source": [
        "train = pd.read_csv(\"reviews_train.csv\")\n",
        "stopWords = np.loadtxt('sw.txt', dtype = np.str)"
      ],
      "execution_count": 0,
      "outputs": []
    },
    {
      "cell_type": "markdown",
      "metadata": {
        "id": "6HvR--3fOMQC",
        "colab_type": "text"
      },
      "source": [
        "**Cleaning: Lower Case and Stopwords Elimination**\n",
        "\n",
        "---\n",
        "\n"
      ]
    },
    {
      "cell_type": "code",
      "metadata": {
        "id": "5JoI0zP3nGPU",
        "colab_type": "code",
        "colab": {}
      },
      "source": [
        "trainTxt = train['Review']\n",
        "\n",
        "for i in range(trainTxt.size):\n",
        "  trainTxt[i] = trainTxt[i].lower()\n",
        "\n",
        "\n",
        "for i in range(trainTxt.size):\n",
        "  trainTxt[i] = trainTxt[i].split()\n",
        "  newWords = []\n",
        "  for word in trainTxt[i]:\n",
        "    if word not in stopWords:\n",
        "      newWords.append(word)\n",
        "  \n",
        "  train['Review'][i] = ' '.join(newWords)\n",
        "  trainTxt[i] = ' '.join(newWords)\n"
      ],
      "execution_count": 0,
      "outputs": []
    },
    {
      "cell_type": "markdown",
      "metadata": {
        "id": "GOOyToS6OfG1",
        "colab_type": "text"
      },
      "source": [
        "**Splitting Positive Labeled Reviews**\n",
        "\n",
        "---\n",
        "\n"
      ]
    },
    {
      "cell_type": "code",
      "metadata": {
        "id": "OjFYElNEADCa",
        "colab_type": "code",
        "colab": {}
      },
      "source": [
        "###  positive ######\n",
        "\n",
        "pos_words = []\n",
        "for _, row in train.iterrows():\n",
        "  if row['Label'] == 'pos':\n",
        "    col = row['Review']\n",
        "    pos_words.append(col) ### NOW WE HAVE ALL WORDS OF POSITIVE LABEL"
      ],
      "execution_count": 0,
      "outputs": []
    },
    {
      "cell_type": "markdown",
      "metadata": {
        "id": "o-lEFUaTOy-Z",
        "colab_type": "text"
      },
      "source": [
        "**Seperating Unique Words and Calculating Repetition**\n",
        "\n",
        "---\n",
        "\n"
      ]
    },
    {
      "cell_type": "code",
      "metadata": {
        "id": "rR7Z-Vne-Odz",
        "colab_type": "code",
        "outputId": "9d437593-10ee-4b67-c36f-7d6156e21aac",
        "colab": {
          "base_uri": "https://localhost:8080/",
          "height": 92
        }
      },
      "source": [
        "Review_pos = [str(pos_words)]\n",
        "Vec_pos = CountVectorizer()\n",
        "X_pos = Vec_pos.fit_transform(Review_pos)\n",
        "\n",
        "pos_feature_names = Vec_pos.get_feature_names()\n",
        "print(Vec_pos.get_feature_names())\n",
        "\n",
        "pos_word_rep = X_pos.toarray() \n",
        "print(X_pos.toarray())\n",
        "\n",
        "pos_word_numbers = np.sum(X_pos.toarray())\n",
        "print(np.sum(X_pos.toarray()))"
      ],
      "execution_count": 5,
      "outputs": [
        {
          "output_type": "stream",
          "text": [
            "['10', '100', '12', '13', '14', '15', '16', '19', '1970', '1983', '1988', '1991', '20', '2006', '23', '24', '25', '26', '2nd', '3rd', '40', '42', '457', '480', '50', '6620ldg', '70', '79', '80', '80s', '90', '90s', '99', 'abc', 'abit', 'able', 'about', 'above', 'absolute', 'absolutely', 'abuse', 'abusers', 'abusive', 'accomplished', 'achieved', 'act', 'acting', 'activities', 'actual', 'actually', 'add', 'addicted', 'addiction', 'addictive', 'addition', 'addressed', 'adhesive', 'admit', 'adopted', 'adorable', 'ados', 'adulation', 'adult', 'adventure', 'advertisement', 'advise', 'africa', 'african', 'again', 'age', 'ages', 'ago', 'agree', 'ahora', 'aired', 'alaska', 'album', 'albums', 'alike', 'alive', 'all', 'allows', 'almo', 'alone', 'alphabet', 'already', 'also', 'although', 'amazing', 'amazon', 'america', 'american', 'americans', 'amsterdam', 'ancient', 'and', 'ando', 'angel', 'angery', 'animal', 'animals', 'animation', 'another', 'antenna', 'anybody', 'anymore', 'anyone', 'anything', 'apart', 'apex', 'apollo', 'appreciate', 'approach', 'appropriate', 'arcades', 'argue', 'argued', 'arno', 'around', 'arrived', 'art', 'artistry', 'asimov', 'ask', 'aspect', 'aspects', 'assuming', 'assure', 'atmosphere', 'attention', 'attract', 'attractive', 'audio', 'authentic', 'author', 'authority', 'authors', 'autumn', 'available', 'average', 'avid', 'avon', 'awakens', 'aware', 'away', 'awesome', 'awesume', 'awkward', 'babies', 'baby', 'babylon', 'back', 'background', 'backs', 'bad', 'baked', 'baker', 'baking', 'balls', 'ballsy', 'banana', 'band', 'bands', 'banging', 'barbie', 'bare', 'barely', 'baseball', 'based', 'basic', 'battles', 'bbc', 'be', 'bear', 'beautiful', 'beautifully', 'beauty', 'becuase', 'been', 'beer', 'beesley', 'begin', 'beginning', 'behind', 'being', 'beings', 'believe', 'belt', 'benchmark', 'berries', 'best', 'bet', 'better', 'beyond', 'big', 'bill', 'bit', 'blend', 'block', 'blocks', 'blond', 'blood', 'blow', 'blue', 'blunt', 'bonus', 'book', 'books', 'bookshelf', 'bookwatch', 'boorish', 'bootlegs', 'bored', 'boring', 'borred', 'botany', 'bottle', 'bought', 'bowls', 'box', 'boxeador', 'boy', 'boys', 'bread', 'breakfast', 'brighter', 'brilliant', 'bring', 'broke', 'brother', 'brought', 'brown', 'bucks', 'build', 'building', 'built', 'bullsh', 'bunches', 'burning', 'but', 'butter', 'buttons', 'buy', 'bw', 'by', 'cabinet', 'cable', 'california', 'call', 'came', 'camera', 'campeones', 'can', 'cancer', 'cap', 'captain', 'car', 'caracters', 'cardinals', 'carefully', 'cares', 'caretakers', 'carey', 'carpenter', 'carrying', 'case', 'cassini', 'castle', 'catalog', 'catch', 'catching', 'category', 'cause', 'cautivo', 'cd', 'cds', 'century', 'cereal', 'cereals', 'certain', 'challenges', 'challenging', 'changes', 'characters', 'charisma', 'check', 'cheeky', 'chefs', 'cherished', 'chet', 'chewed', 'chewers', 'chewy', 'child', 'childhood', 'children', 'chinsy', 'chips', 'chock', 'chocolate', 'choice', 'choices', 'choose', 'chris', 'christmas', 'chronicles', 'chrono', 'chronomantique', 'chronopolis', 'church', 'cities', 'civilized', 'claire', 'clap', 'clarity', 'class', 'classed', 'classic', 'clean', 'clear', 'clearly', 'click', 'clone', 'closer', 'closet', 'clot', 'club', 'clubs', 'clue', 'coast', 'coastal', 'coax', 'colin', 'collection', 'collectors', 'college', 'colony', 'color', 'colorful', 'colors', 'columnists', 'com', 'combination', 'combo', 'come', 'comeback', 'comedy', 'comes', 'comfy', 'comical', 'coming', 'comments', 'commentswill', 'communication', 'communicator', 'community', 'company', 'compatability', 'complaint', 'complaints', 'completed', 'completely', 'completes', 'complex', 'complicated', 'composed', 'composer', 'comprehend', 'compression', 'computer', 'con', 'concerts', 'condition', 'considering', 'construction', 'consumers', 'contacted', 'contemporary', 'contention', 'contiene', 'continue', 'contradict', 'contributed', 'control', 'convenience', 'cookie', 'cookies', 'cool', 'cooool', 'copy', 'corners', 'corresponding', 'count', 'counter', 'countries', 'country', 'couple', 'course', 'cover', 'coverage', 'covers', 'crackling', 'craft', 'crave', 'create', 'creating', 'creative', 'creativity', 'creepy', 'crime', 'critcs', 'critics', 'crooning', 'cross', 'crown', 'crude', 'crunch', 'cu', 'cuban', 'culture', 'cultures', 'curious', 'curiousity', 'cute', 'dad', 'daddy', 'dance', 'danced', 'dancing', 'date', 'daughter', 'daughters', 'david', 'day', 'days', 'ddr', 'de', 'dead', 'deal', 'death', 'deaths', 'debut', 'decades', 'decided', 'deciding', 'decision', 'decorate', 'decorating', 'deep', 'defective', 'definate', 'definitely', 'defunct', 'delicate', 'delicious', 'delight', 'delights', 'delivered', 'demonstrates', 'deodato', 'depicting', 'descriptions', 'descriptive', 'deserves', 'design', 'designed', 'destiny', 'detailed', 'details', 'developmentally', 'devil', 'diane', 'did', 'didn', 'die', 'died', 'difference', 'different', 'difficult', 'difficulties', 'dig', 'direct', 'dirty', 'disagree', 'disagreeing', 'disappointed', 'discourse', 'discutir', 'disgusted', 'disk', 'disney', 'distant', 'distraught', 'divine', 'djs', 'do', 'doctor', 'does', 'doesn', 'dog', 'dogs', 'don', 'donovancalifornia', 'doors', 'dorie', 'doubt', 'dough', 'down', 'download', 'downloaded', 'downloader', 'downsized', 'draggons', 'dragon', 'dragons', 'drama', 'drawings', 'dreamers', 'dreamwatch', 'dress', 'dropping', 'drowned', 'drowning', 'due', 'dummy', 'durable', 'duran', 'dvd', 'dvt', 'each', 'early', 'easier', 'easily', 'eastenders', 'easy', 'eat', 'edges', 'educational', 'effects', 'el', 'elated', 'electro', 'electronic', 'electronics', 'elephant', 'else', 'em', 'emotion', 'emotional', 'emotions', 'enchanting', 'encounter', 'end', 'endless', 'energetic', 'energizes', 'energy', 'engaging', 'england', 'english', 'enjoy', 'enjoyable', 'enjoyed', 'enjoying', 'enough', 'enter', 'entire', 'episodes', 'eric', 'error', 'es', 'especially', 'esposo', 'essential', 'este', 'etc', 'euromix', 'europe', 'european', 'even', 'ever', 'everybody', 'everything', 'ex', 'exact', 'excelent', 'excellent', 'except', 'excited', 'exotics', 'expect', 'expected', 'expecting', 'experience', 'explains', 'explanation', 'exploration', 'exploring', 'express', 'extensive', 'extra', 'extremely', 'eye', 'eyewitness', 'fact', 'factor', 'fade', 'fado', 'fails', 'fairytale', 'faithfulness', 'fall', 'fallen', 'family', 'fan', 'fantastic', 'fantasy', 'far', 'farm', 'fascinating', 'fashionable', 'fast', 'faster', 'fat', 'fate', 'fated', 'fates', 'father', 'favorite', 'favorites', 'feat', 'features', 'fedex', 'feel', 'feeling', 'fell', 'felt', 'few', 'fi', 'fictional', 'fight', 'figured', 'filled', 'final', 'finale', 'finally', 'find', 'finding', 'finds', 'fine', 'finest', 'finger', 'finished', 'fireballing', 'first', 'fish', 'fits', 'five', 'flashbacks', 'flat', 'flavor', 'flavors', 'fledged', 'flexibility', 'flings', 'float', 'floats', 'floor', 'focused', 'fokr', 'folks', 'follow', 'followed', 'fool', 'for', 'forest', 'forget', 'forgive', 'forgot', 'form', 'format', 'formerly', 'fortress', 'forty', 'forward', 'found', 'four', 'fp', 'fragment', 'fragrance', 'frame', 'france', 'francisco', 'freesia', 'fresher', 'friend', 'friendly', 'friends', 'from', 'fronted', 'frustrated', 'fuel', 'full', 'fully', 'fun', 'functions', 'funny', 'gained', 'galdorb', 'gale', 'game', 'gamer', 'games', 'gammons', 'garden', 'garner', 'garter', 'gave', 'gem', 'gems', 'general', 'germany', 'get', 'gets', 'getten', 'getting', 'gift', 'gifts', 'gig', 'girl', 'girlfriend', 'girls', 'give', 'gives', 'giving', 'glad', 'glass', 'glitter', 'glorious', 'glossy', 'gm', 'go', 'god', 'goes', 'going', 'goma', 'gone', 'goner', 'good', 'goodness', 'got', 'gotta', 'gotten', 'grab', 'grammar', 'grandchild', 'grandchildren', 'granddaughter', 'grandson', 'graphics', 'grate', 'great', 'greatest', 'greatly', 'greece', 'greetings', 'grew', 'grown', 'guaranteed', 'guess', 'guessing', 'guest', 'guide', 'guidebook', 'guiding', 'guillible', 'guise', 'guitar', 'guitars', 'guy', 'guysmusicchoice', 'gymnastic', 'hair', 'half', 'halloween', 'handed', 'hands', 'handycam', 'hanford', 'hang', 'happen', 'happened', 'happening', 'happily', 'happy', 'hard', 'harvey', 'hasn', 'hasta', 'hate', 'hated', 'haunting', 'have', 'haven', 'having', 'hawk', 'he', 'head', 'header', 'heads', 'hear', 'heard', 'hearing', 'heart', 'heat', 'heavily', 'heel', 'hell', 'help', 'helpful', 'helping', 'helps', 'henry', 'her', 'here', 'heroine', 'herself', 'hi8', 'high', 'higher', 'highlander', 'highlight', 'highlights', 'highly', 'him', 'hines', 'historical', 'history', 'hit', 'hits', 'hmmmm', 'hold', 'home', 'homer', 'honest', 'honey', 'hooked', 'hope', 'hoped', 'hopefully', 'hoping', 'horrendous', 'horseman', 'hose', 'hot', 'hotel', 'hours', 'house', 'houston', 'how', 'however', 'howl', 'hrs', 'human', 'humans', 'hungry', 'hunted', 'hunting', 'hurt', 'husband', 'huygens', 'hybrid', 'hysterical', 'idea', 'idenity', 'identify', 'if', 'ignored', 'ill', 'illogical', 'illusion', 'illustration', 'imagination', 'imaginative', 'imbecil', 'important', 'impress', 'impressed', 'impressively', 'in', 'inclined', 'including', 'incorporate', 'incorporates', 'incredible', 'incrediblocks', 'incurable', 'indefinably', 'indictment', 'individual', 'inexpensive', 'infection', 'influenced', 'inform', 'information', 'ingredients', 'input', 'inputs', 'insecurities', 'inset', 'inside', 'insight', 'inspiration', 'installed', 'instead', 'instructional', 'intense', 'interaction', 'interelation', 'interesaba', 'interested', 'interesting', 'internal', 'international', 'interspersed', 'intrigue', 'intrigued', 'intriguing', 'intuitive', 'invaluable', 'investment', 'ipod', 'is', 'isle', 'isn', 'israel', 'it', 'italian', 'items', 'ive', 'jack', 'jacks', 'jam', 'jammin', 'jamming', 'japan', 'japanese', 'jaw', 'jay', 'jayson', 'jazz', 'jealousy', 'jellyfish', 'jet', 'jewel', 'jiggle', 'jmm', 'job', 'jobst', 'jocketty', 'john', 'join', 'julia', 'jump', 'just', 'jvc', 'keep', 'keeper', 'keeping', 'keeps', 'kelly', 'kept', 'keyboarding', 'keys', 'kickback', 'kid', 'kids', 'kilt', 'kind', 'kitchen', 'knew', 'knocking', 'know', 'knowing', 'label', 'land', 'lanna', 'laptop', 'large', 'larger', 'larry', 'last', 'late', 'later', 'latest', 'latino', 'law', 'lazy', 'lcd', 'leagues', 'leap', 'learn', 'learned', 'learning', 'leary', 'least', 'leaves', 'left', 'legacy', 'legs', 'lei', 'less', 'lets', 'letter', 'letters', 'library', 'libro', 'lice', 'lie', 'life', 'light', 'lightweight', 'like', 'liked', 'likes', 'list', 'listed', 'listen', 'listened', 'listener', 'listening', 'little', 'live', 'lived', 'lives', 'living', 'll', 'lo', 'loads', 'local', 'logs', 'long', 'longer', 'look', 'looked', 'looking', 'looks', 'lord', 'lost', 'lot', 'lots', 'loud', 'lounging', 'love', 'loved', 'lover', 'lovers', 'loves', 'loving', 'lucid', 'lucky', 'luxury', 'lyrics', 'macpherson', 'made', 'magical', 'maid', 'maintenance', 'major', 'make', 'makes', 'making', 'mama', 'man', 'manipulate', 'manner', 'manual', 'mariah', 'mary', 'mash', 'massive', 'master', 'masterpiece', 'match', 'matter', 'max', 'may', 'maze', 'me', 'means', 'meant', 'media', 'melodies', 'melody', 'members', 'memories', 'memory', 'memphis', 'messy', 'methane', 'mi', 'michael', 'miles', 'mills', 'mind', 'minded', 'mining', 'minors', 'minute', 'mis', 'miss', 'missing', 'mission', 'mitsuda', 'mix', 'mixed', 'mixer', 'mixing', 'mixture', 'mm', 'mocked', 'mode', 'modern', 'moe', 'mommy', 'money', 'mono', 'montgomery', 'months', 'mood', 'moral', 'more', 'moses', 'mother', 'motorcycle', 'mouse', 'move', 'movie', 'movies', 'moving', 'mp3', 'mr', 'ms', 'mtv', 'much', 'muse', 'museum', 'music', 'musicians', 'my', 'nails', 'nasa', 'natural', 'naturalist', 'navey', 'nc', 'neck', 'need', 'needed', 'negative', 'never', 'nevertheless', 'new', 'newest', 'next', 'nice', 'nifty', 'night', 'nite', 'no', 'nobody', 'noise', 'non', 'none', 'nor', 'normaly', 'nose', 'not', 'note', 'notice', 'noticed', 'novel', 'novels', 'now', 'nuances', 'number', 'nut', 'nylipps3', 'oats', 'obedience', 'object', 'objects', 'oblivians', 'obsession', 'obvious', 'obviously', 'odd', 'off', 'offending', 'offering', 'official', 'oh', 'old', 'older', 'olds', 'oliver', 'omg', 'on', 'once', 'one', 'online', 'open', 'opened', 'opening', 'openings', 'opera', 'opinino', 'opportunities', 'opposites', 'option', 'options', 'orchestras', 'order', 'ordered', 'original', 'originally', 'orphange', 'out', 'outcome', 'outhwaite', 'outrageous', 'outstanding', 'over', 'overall', 'overdriven', 'overnight', 'overview', 'overwhelmed', 'own', 'owner', 'owners', 'owns', 'oxygen', 'paced', 'pack', 'packaged', 'pad', 'pages', 'paint', 'paints', 'panel', 'pantyhose', 'paper', 'parade', 'parent', 'parents', 'paris', 'part', 'particular', 'parts', 'party', 'past', 'pat', 'patterns', 'pc', 'peaceful', 'peek', 'peers', 'pefectly', 'pegs', 'penguin', 'penny', 'pense', 'people', 'perfect', 'perfectly', 'performance', 'performers', 'performs', 'period', 'pero', 'personal', 'personally', 'pet', 'peter', 'phone', 'photo', 'photos', 'picked', 'picture', 'pictures', 'pimp', 'pioneers', 'pitcher', 'pizazz', 'place', 'placement', 'places', 'plain', 'plan', 'plastic', 'play', 'playback', 'played', 'player', 'players', 'playing', 'plays', 'playtime', 'pleasantly', 'please', 'plunge', 'plus', 'pod', 'point', 'poised', 'pokey', 'polar', 'politics', 'pony', 'possible', 'possiblility', 'pot', 'poured', 'power', 'powers', 'practically', 'prayer', 'predict', 'prefect', 'prepare', 'prepared', 'present', 'pretty', 'previous', 'price', 'prince', 'printing', 'prisoners', 'private', 'probably', 'problem', 'problems', 'process', 'processes', 'produced', 'producers', 'product', 'production', 'profesionally', 'professionals', 'profound', 'program', 'programming', 'programs', 'project', 'projects', 'promise', 'prospect', 'prospects', 'pry', 'public', 'puedo', 'pull', 'pulled', 'purchase', 'purchased', 'purchasing', 'purchsed', 'purely', 'purpose', 'put', 'puzzle', 'quality', 'que', 'queen', 'questions', 'quick', 'quickly', 'radical', 'radio', 'range', 'rap', 'rapunzel', 'rated', 'ratio', 'rattle', 'raving', 're', 'read', 'reader', 'reading', 'ready', 'real', 'realistic', 'reality', 'realy', 'reason', 'reasons', 'reatard', 'reatards', 'recalling', 'receive', 'received', 'recent', 'recipes', 'recomend', 'recommend', 'record', 'recorded', 'records', 'refer', 'refuses', 'regardless', 'regular', 'relationship', 'relaxed', 'relaxing', 'relcaiming', 'release', 'released', 'releases', 'releasing', 'religious', 'rely', 'remarkable', 'remastering', 'remember', 'remeniscent', 'reminds', 'remix', 'remote', 'removed', 'rendering', 'renditions', 'replace', 'replaced', 'replacement', 'required', 'research', 'researched', 'resort', 'resource', 'response', 'responsibilities', 'rest', 'restraint', 'return', 'revenge', 'revengeful', 'review', 'reviewer', 'reviews', 'revised', 'rewarding', 'rich', 'ride', 'ridge', 'right', 'rights', 'ringer', 'ringolsby', 'riping', 'rising', 'rithem', 'rma', 'robert', 'rochelle', 'rock', 'rocket', 'rocking', 'rocks', 'roll', 'rolling', 'romance', 'romantic', 'room', 'rooms', 'rose', 'roster', 'roy', 'rubberized', 'run', 'running', 'russia', 'ruth', 'rv', 'saber', 'sad', 'sadly', 'sadness', 'safely', 'safety', 'said', 'saints', 'sales', 'salsa', 'san', 'sang', 'satisfied', 'saturated', 'saturday', 'saturn', 'saving', 'saw', 'say', 'saying', 'says', 'scar', 'scars', 'scene', 'schemes', 'school', 'schooling', 'sci', 'scientist', 'scores', 'screen', 'screw', 'screwed', 'scroll', 'sea', 'search', 'searching', 'season', 'second', 'seconds', 'see', 'seeds', 'seeing', 'seem', 'seemed', 'seems', 'seen', 'selection', 'seller', 'senery', 'sense', 'sensibilities', 'sent', 'seperate', 'series', 'serious', 'set', 'sets', 'setters', 'setting', 'several', 'sexor', 'seys', 'sh', 'shake', 'shape', 'shapes', 'sharp', 'she', 'sheer', 'shelf', 'shewas', 'shipped', 'shocked', 'shoes', 'shopping', 'shore', 'short', 'should', 'show', 'showed', 'showing', 'si', 'side', 'sights', 'significance', 'silk', 'simple', 'simpler', 'simply', 'sinclair', 'singer', 'singing', 'single', 'singles', 'sings', 'site', 'six', 'size', 'sizzling', 'skills', 'skin', 'slip', 'slower', 'small', 'smaller', 'smashing', 'smells', 'smoother', 'snow', 'so', 'soap', 'sobre', 'society', 'soft', 'software', 'solar', 'sole', 'solved', 'solving', 'somethin', 'something', 'sometimes', 'son', 'song', 'songs', 'sons', 'sony', 'soon', 'sooo', 'sort', 'soukous', 'soulful', 'soulwax', 'sound', 'sounds', 'soundtrack', 'soundtracks', 'sourdough', 'south', 'southern', 'southside', 'space', 'spanish', 'speak', 'speaker', 'speakers', 'special', 'specially1', 'spectacular', 'spice', 'spin', 'spite', 'splendid', 'spoke', 'sponsored', 'stacking', 'staggering', 'stand', 'standard', 'standards', 'star', 'stark', 'starr', 'starring', 'stars', 'start', 'started', 'starter', 'starting', 'state', 'stated', 'stats', 'stays', 'stefan', 'step', 'stephan', 'stepped', 'stereo', 'steve', 'steven', 'sticky', 'stockings', 'stole', 'stone', 'stop', 'stopped', 'storage', 'store', 'stores', 'stories', 'story', 'straight', 'strike', 'strings', 'studied', 'study', 'stuffs', 'stumbles', 'stuning', 'style', 'subject', 'subscribed', 'subscriber', 'subscription', 'substantial', 'suc', 'successful', 'such', 'suegro', 'summer', 'superb', 'support', 'sure', 'surely', 'surprise', 'surprised', 'surrounding', 'sus', 'sweeet', 'sweet', 'sweeter', 'sylvania', 'system', 'tac', 'tag', 'take', 'takes', 'taking', 'talent', 'talented', 'talk', 'talking', 'talking2', 'tamzin', 'tapes', 'taste', 'tastes', 'tasting', 'teach', 'teaches', 'team', 'tech', 'technically', 'techno', 'techo', 'ted', 'teen', 'teens', 'telepathic', 'televisions', 'tell', 'tells', 'tender', 'tends', 'termina', 'terminal', 'tess', 'textbook', 'textbooks', 'texts', 'textual', 'textured', 'than', 'thank', 'thanks', 'that', 'the', 'them', 'themes', 'then', 'there', 'they', 'thia', 'thick', 'thigh', 'thing', 'things', 'think', 'this', 'thoroughly', 'though', 'thought', 'thread', 'three', 'threw', 'thrilled', 'throu', 'throughout', 'thus', 'tic', 'tied', 'tiga', 'til', 'timber', 'timberframe', 'time', 'timeless', 'timer', 'times', 'titan', 'title', 'titles', 'tn', 'to', 'today', 'todo', 'toe', 'together', 'tokage', 'told', 'tolerate', 'tomorrow', 'tons', 'too', 'took', 'tool', 'top', 'tops', 'totally', 'tots', 'touch', 'touched', 'tough', 'tower', 'towers', 'toy', 'toys', 'track', 'tracks', 'tracy', 'train', 'trains', 'transaction', 'translation', 'trashy', 'trauma', 'travel', 'traveled', 'treasures', 'treatment', 'tricky', 'tried', 'tries', 'trigger', 'trill', 'trip', 'tropea', 'trouble', 'true', 'trully', 'truly', 'trusted', 'tube', 'turn', 'turned', 'turns', 'tv', 'twice', 'twirl', 'twist', 'twisted', 'two', 'tx', 'type', 'typical', 'ugly', 'uk', 'ultimate', 'ultrasheer', 'umbrella', 'unanswered', 'uncover', 'under', 'underlaying', 'underrated', 'understand', 'unfortunately', 'unknown', 'unless', 'unstealable', 'unstolen', 'up', 'upcoming', 'upgrade', 'ups', 'use', 'used', 'user', 'using', 'usually', 'valentine', 'valley', 'value', 'variations', 'varies', 'vcr', 've', 'venture', 'version', 'versions', 'versons', 'vhs', 'via', 'vibrant', 'video', 'videogame', 'view', 'vignettes', 'visiting', 'vocals', 'voice', 'voices', 'wait', 'walls', 'walmart', 'walt', 'want', 'wanted', 'wanting', 'wants', 'ward', 'wardell', 'warm', 'warming', 'warning', 'washed', 'washes', 'washington', 'wasn', 'watch', 'watermelon', 'waterproof', 'waving', 'waxed', 'way', 'we', 'wear', 'wearing', 'wears', 'week', 'weeks', 'weight', 'well', 'western', 'whale', 'whales', 'what', 'whether', 'which', 'whisper', 'whispers', 'white', 'who', 'wicked', 'wife', 'wild', 'willing', 'wind', 'winner', 'winning', 'wish', 'with', 'women', 'won', 'wonder', 'wonderful', 'wonderfully', 'wondering', 'wood', 'wooden', 'word', 'words', 'wore', 'work', 'worked', 'working', 'workout', 'works', 'world', 'worn', 'worried', 'worth', 'would', 'wow', 'wrapped', 'write', 'writer', 'writers', 'writing', 'written', 'writting', 'wrong', 'wrote', 'xander', 'xenogears', 'ya', 'yasunori', 'year', 'years', 'yes', 'yet', 'yoruba', 'you', 'young', 'younger', 'youtube', 'yr', 'yucky', 'zebra', 'zelbessdisk', 'zen', 'zippered']\n",
            "[[2 2 1 ... 1 2 1]]\n",
            "4238\n"
          ],
          "name": "stdout"
        }
      ]
    },
    {
      "cell_type": "markdown",
      "metadata": {
        "id": "b9bRGXoDPIM9",
        "colab_type": "text"
      },
      "source": [
        "**Splitting Negative Labeled Reviews**\n",
        "\n",
        "---\n",
        "\n"
      ]
    },
    {
      "cell_type": "code",
      "metadata": {
        "id": "fMZFROhRGcJa",
        "colab_type": "code",
        "colab": {}
      },
      "source": [
        "###  negative ######\n",
        "\n",
        "neg_words = []\n",
        "for _, row in train.iterrows():\n",
        "  if row['Label'] == 'neg':\n",
        "    col = row['Review']\n",
        "    neg_words.append(col) ### NOW WE HAVE ALL WORDS OF NEGATIVE LABELED"
      ],
      "execution_count": 0,
      "outputs": []
    },
    {
      "cell_type": "markdown",
      "metadata": {
        "id": "Nt_wJfYbPTFF",
        "colab_type": "text"
      },
      "source": [
        "**Seperating Unique Words and Calculating Repetition**\n",
        "\n",
        "---\n",
        "\n"
      ]
    },
    {
      "cell_type": "code",
      "metadata": {
        "id": "wGg0tLLHGu07",
        "colab_type": "code",
        "outputId": "fd35c90b-01c0-4eaf-f7e6-53446b1a17a5",
        "colab": {
          "base_uri": "https://localhost:8080/",
          "height": 92
        }
      },
      "source": [
        "Review_neg = [str(neg_words)]\n",
        "Vec_neg = CountVectorizer()\n",
        "X_neg = Vec_neg.fit_transform(Review_neg)\n",
        "\n",
        "neg_feature_names = Vec_neg.get_feature_names()\n",
        "print(Vec_neg.get_feature_names())\n",
        "\n",
        "neg_word_rep = X_neg.toarray() \n",
        "print(X_neg.toarray())\n",
        "\n",
        "neg_word_numbers = np.sum(X_neg.toarray())\n",
        "print(np.sum(X_neg.toarray()))"
      ],
      "execution_count": 7,
      "outputs": [
        {
          "output_type": "stream",
          "text": [
            "['10', '110', '114622', '12', '15', '16', '16mm', '1700', '18th', '1980', '1985', '20', '200', '2010', '24', '27', '30', '40', '400', '4yr', '50', '7th', '80', '80s', '8th', '95', 'aa', 'aaa', 'aaas', 'aas', 'able', 'about', 'absolute', 'absolutely', 'absolutle', 'absurd', 'abysmal', 'accept', 'access', 'acclaimed', 'acctually', 'achieves', 'acting', 'action', 'active', 'actual', 'actually', 'add', 'addicted', 'additional', 'addonics', 'adj', 'adults', 'advertised', 'after', 'again', 'age', 'ago', 'agree', 'ahead', 'air', 'al', 'alaskan', 'all', 'allman', 'alot', 'alphabet', 'already', 'also', 'although', 'always', 'alyssa', 'am', 'amateur', 'amazing', 'amazon', 'amusing', 'and', 'angle', 'ankles', 'annoyed', 'annoying', 'another', 'anymore', 'anyone', 'anyones', 'anything', 'anyway', 'anywhere', 'apart', 'apartheid', 'apologized', 'appear', 'appears', 'apply', 'applying', 'arcade', 'archive', 'are', 'ariel', 'around', 'arrived', 'arrogant', 'arrows', 'artisan', 'artisans', 'artists', 'as', 'ashore', 'attach', 'attempting', 'attempts', 'attention', 'attorneys', 'audience', 'audio', 'author', 'avoid', 'award', 'away', 'awful', 'awkward', 'babylon', 'back', 'background', 'backup', 'bad', 'baked', 'baker', 'bands', 'barbie', 'based', 'basic', 'basically', 'bateman', 'batteries', 'battery', 'battlefield', 'be', 'beach', 'beam', 'beat', 'beautiful', 'bedroom', 'before', 'begin', 'beginners', 'beginning', 'behavior', 'belief', 'believability', 'believe', 'best', 'better', 'beware', 'beyond', 'biased', 'big', 'biggest', 'biographer', 'birthday', 'bit', 'bits', 'black', 'blanket', 'blocks', 'blurry', 'boiling', 'bonus', 'book', 'books', 'boot', 'bootleg', 'bop', 'boredom', 'boston', 'bother', 'bottom', 'bought', 'box', 'boy', 'boys', 'bracelet', 'brand', 'brass', 'bread', 'breads', 'breaks', 'breezed', 'bridge', 'bright', 'broadway', 'broke', 'brothers', 'brought', 'bruford', 'btw', 'bucks', 'bug', 'build', 'builder', 'building', 'buils', 'businees', 'but', 'button', 'buttons', 'buy', 'buyer', 'buyers', 'buying', 'cake', 'california', 'call', 'came', 'camera', 'camp', 'can', 'capability', 'capable', 'cape', 'caps', 'captain', 'captions', 'captured', 'car', 'cardboard', 'care', 'careful', 'carries', 'cars', 'castle', 'casually', 'catch', 'caught', 'caution', 'cd', 'cds', 'cell', 'century', 'cha', 'challenge', 'chance', 'change', 'channels', 'chapter', 'character', 'characterization', 'characters', 'charge', 'charger', 'chargers', 'charges', 'charging', 'charming', 'chart', 'cheap', 'check', 'cheesy', 'child', 'choice', 'choose', 'chose', 'christmas', 'churning', 'city', 'claim', 'claims', 'clark', 'class', 'classic', 'classical', 'clean', 'clear', 'clearly', 'cleverly', 'click', 'clicking', 'clicks', 'closed', 'clouded', 'coda', 'colin', 'collection', 'collections', 'coloring', 'com', 'combination', 'combined', 'come', 'comedies', 'comedy', 'comes', 'commands', 'company', 'compared', 'comparing', 'compatible', 'compilation', 'compilations', 'complete', 'completely', 'complicated', 'compression', 'computers', 'concept', 'concise', 'conclude', 'condemnation', 'condition', 'confusing', 'considered', 'consistently', 'constantly', 'contact', 'contacted', 'content', 'contest', 'contrasts', 'control', 'controls', 'convenient', 'cool', 'copper', 'copy', 'corner', 'correct', 'cost', 'costly', 'costumes', 'couldn', 'country', 'countryside', 'couple', 'courage', 'course', 'courtroom', 'cover', 'covered', 'covers', 'crashes', 'crayon', 'create', 'creative', 'crime', 'critically', 'crucial', 'crying', 'crystal', 'cue', 'culprit', 'cups', 'currently', 'cushion', 'cushions', 'cute', 'cuz', 'daddy', 'damage', 'dance', 'dark', 'dashmat', 'date', 'dates', 'daughter', 'daughters', 'day', 'dead', 'deal', 'dealer', 'dear', 'debacle', 'deceiving', 'decent', 'decided', 'deciding', 'decorate', 'deeply', 'defendant', 'definately', 'defining', 'definitely', 'defintely', 'delivered', 'depending', 'depends', 'deprivation', 'describe', 'describes', 'description', 'design', 'designs', 'detail', 'detailed', 'detectives', 'development', 'did', 'didn', 'didnt', 'diego', 'different', 'difficult', 'digital', 'dimeola', 'dip', 'director', 'disabled', 'disapointed', 'disappointed', 'disappointing', 'disappointment', 'disc', 'discerning', 'discovers', 'disembodied', 'disk', 'dismay', 'dissapointing', 'disservice', 'distance', 'distracted', 'divroced', 'dk', 'do', 'doesn', 'dog', 'dollars', 'don', 'done', 'doubt', 'down', 'drain', 'draw', 'drawing', 'drew', 'drinking', 'drive', 'drivel', 'droppings', 'dubbing', 'duct', 'due', 'duh', 'dull', 'duplicate', 'dvd', 'dvds', 'each', 'earlier', 'early', 'easy', 'ed', 'editing', 'editions', 'educational', 'egg', 'else', 'email', 'embarassment', 'embarrassed', 'emerson', 'end', 'ended', 'ending', 'engineering', 'english', 'enjoy', 'enjoyable', 'enough', 'entered', 'entertain', 'entertaining', 'entire', 'enunciation', 'epitimy', 'equal', 'equivalent', 'errors', 'essay', 'essentially', 'estimated', 'euromix', 'europe', 'even', 'evening', 'events', 'everything', 'everytime', 'exact', 'exaggerated', 'example', 'excellent', 'except', 'exceptions', 'exchanging', 'excited', 'excitement', 'exciting', 'exclude', 'exist', 'existent', 'exit', 'expect', 'expectations', 'expected', 'experience', 'explain', 'explanations', 'explicit', 'explore', 'extended', 'extolling', 'fabulous', 'fact', 'factory', 'fail', 'failed', 'fails', 'faintly', 'fairly', 'faith', 'fake', 'family', 'famous', 'fan', 'far', 'fascinating', 'fast', 'fault', 'favourite', 'fear', 'featured', 'feedback', 'feel', 'feet', 'felt', 'female', 'feminism', 'feminist', 'ferrari', 'few', 'figure', 'figured', 'figures', 'figurine', 'filed', 'files', 'filled', 'film', 'find', 'fine', 'finish', 'finished', 'first', 'fisher', 'fit', 'flash', 'flawlessly', 'flip', 'flippant', 'florida', 'flour', 'flowers', 'fm', 'folks', 'follower', 'fool', 'fooled', 'foot', 'forced', 'forgotten', 'former', 'found', 'founders', 'four', 'fourth', 'frame', 'framing', 'free', 'freesia', 'freezing', 'frequently', 'friend', 'friendly', 'friends', 'friendship', 'from', 'frozen', 'frustrating', 'full', 'fun', 'function', 'funny', 'further', 'fusion', 'fusty', 'future', 'game', 'games', 'garbage', 'gee', 'gender', 'genital', 'gets', 'getting', 'gift', 'gigantic', 'girl', 'girlfriend', 'give', 'given', 'gives', 'glad', 'glaringly', 'glowing', 'goal', 'going', 'good', 'got', 'graces', 'grade', 'grader', 'graduate', 'grammar', 'grammatical', 'grand', 'great', 'gregory', 'ground', 'group', 'growing', 'guess', 'guide', 'guides', 'guys', 'haddon', 'half', 'halfway', 'hand', 'happen', 'happening', 'happy', 'hard', 'harvard', 'hasn', 'having', 'haze', 'he', 'headcleaner', 'hear', 'heard', 'hearing', 'heart', 'heated', 'hell', 'help', 'here', 'heroes', 'herself', 'hesitant', 'high', 'him', 'hip', 'historian', 'historians', 'historical', 'history', 'hold', 'holding', 'holds', 'holidays', 'hollywood', 'home', 'honestly', 'hope', 'hoped', 'hoping', 'horizontal', 'horrible', 'horribly', 'hot', 'hour', 'hours', 'house', 'however', 'huge', 'human', 'hundreds', 'hung', 'hysterics', 'idea', 'ideas', 'idiotic', 'if', 'illustrated', 'image', 'imagine', 'immediate', 'immediately', 'imo', 'implying', 'importcds', 'impossible', 'impress', 'impressed', 'impression', 'improperly', 'improve', 'incidental', 'included', 'incompetent', 'incorrect', 'incredibly', 'indiv', 'inferior', 'info', 'information', 'ingredients', 'insect', 'insert', 'instead', 'instruction', 'instructions', 'intelligent', 'intention', 'intentional', 'intentionally', 'interaction', 'interesting', 'internet', 'introduced', 'invaders', 'investment', 'ireland', 'irrelevant', 'is', 'island', 'issue', 'it', 'item', 'its', 'jail', 'jam', 'japanese', 'jason', 'jist', 'job', 'joe', 'john', 'joints', 'joke', 'judgment', 'july', 'jumpy', 'june', 'jungle', 'junk', 'just', 'jvc', 'keep', 'keeping', 'kept', 'keyboard', 'kids', 'kill', 'killed', 'kind', 'kinda', 'kit', 'kitchen', 'knew', 'know', 'known', 'kodak', 'lacked', 'lacking', 'lacks', 'landscape', 'lappen', 'larger', 'last', 'lasts', 'laugh', 'laughed', 'law', 'layout', 'lead', 'leads', 'lean', 'learned', 'learning', 'least', 'leave', 'left', 'let', 'letters', 'level', 'liberating', 'library', 'life', 'light', 'lighting', 'lights', 'lightweight', 'like', 'liked', 'likes', 'lindsay', 'line', 'lion', 'lisa', 'list', 'listen', 'listened', 'listening', 'litte', 'little', 'live', 'loads', 'lonely', 'long', 'longer', 'look', 'looked', 'looking', 'loose', 'loosely', 'loosens', 'lose', 'loses', 'lot', 'lots', 'loudly', 'love', 'loved', 'lover', 'luckily', 'lucky', 'ludicrous', 'mac', 'machine', 'macpherson', 'macrea', 'made', 'main', 'maintaining', 'make', 'makes', 'making', 'manage', 'manufacturer', 'manuscript', 'mark', 'markedly', 'marketplace', 'mat', 'match', 'material', 'matter', 'mcbain', 'me', 'meant', 'meanwhile', 'mechanism', 'memory', 'men', 'mens', 'mentioned', 'menu', 'mermaid', 'message', 'michael', 'middle', 'mind', 'mine', 'minimum', 'minute', 'miscellaneous', 'mishap', 'missing', 'misspelling', 'misspellings', 'mistake', 'mistakes', 'mists', 'mockingbird', 'model', 'modern', 'moments', 'money', 'montgomery', 'month', 'months', 'mood', 'more', 'morning', 'morse', 'mortise', 'mountain', 'mouse', 'moves', 'movie', 'moving', 'ms', 'much', 'muddy', 'multiple', 'music', 'muslim', 'must', 'mutilation', 'my', 'mystery', 'name', 'narrative', 'native', 'nearly', 'need', 'needed', 'needless', 'needs', 'negative', 'neighborhood', 'neither', 'never', 'new', 'newest', 'nice', 'nights', 'nimh', 'no', 'non', 'none', 'nor', 'norma', 'not', 'nothing', 'notice', 'noticeable', 'novel', 'november', 'novice', 'now', 'nowhere', 'nudge', 'number', 'numbing', 'objects', 'obvious', 'occupant', 'od', 'odd', 'of', 'off', 'offer', 'offering', 'oh', 'old', 'olds', 'on', 'one', 'ones', 'open', 'openning', 'opinion', 'option', 'options', 'or', 'order', 'ordered', 'orginally', 'original', 'originals', 'os', 'ostensibly', 'others', 'out', 'outlining', 'outrun', 'over', 'own', 'packace', 'package', 'packaged', 'packaging', 'page', 'pages', 'paid', 'painful', 'painting', 'pair', 'palyer', 'pancakes', 'pants', 'paper', 'par', 'paragraphs', 'parts', 'party', 'pass', 'passing', 'pathetic', 'patience', 'patterns', 'pause', 'pearl', 'pedantic', 'pencil', 'penetrating', 'peoples', 'per', 'perfect', 'performance', 'performed', 'performs', 'perfume', 'perhaps', 'period', 'person', 'persons', 'phew', 'phil', 'phone', 'pick', 'picture', 'pictures', 'piece', 'pieces', 'pipe', 'pixelations', 'place', 'placed', 'places', 'planet', 'plastic', 'plates', 'play', 'played', 'player', 'playing', 'playstation', 'please', 'pledge', 'plenty', 'plot', 'plus', 'point', 'pointers', 'points', 'policy', 'poor', 'poorly', 'pop', 'portable', 'positive', 'possible', 'potentially', 'power', 'practical', 'pratice', 'precision', 'presentation', 'pressure', 'pretty', 'previous', 'price', 'primary', 'print', 'prior', 'probably', 'problem', 'problems', 'produced', 'product', 'production', 'professional', 'profound', 'program', 'programmed', 'programming', 'prominently', 'promised', 'prompt', 'pronnounce', 'pronounciation', 'proper', 'properties', 'prose', 'provide', 'provides', 'public', 'published', 'publishers', 'publishing', 'pull', 'punk', 'purchase', 'purchased', 'purist', 'purposes', 'push', 'put', 'quality', 'questions', 'quick', 'quickly', 'race', 'racing', 'radio', 'rally', 'random', 'rapped', 'rapunzel', 'rate', 'rated', 'rattled', 'rayner', 're', 'read', 'reading', 'ready', 'real', 'realized', 'reason', 'reasonably', 'reasons', 'rebooting', 'recall', 'receive', 'received', 'receiver', 'receiving', 'reception', 'recieve', 'recipe', 'recipes', 'recipient', 'recomended', 'recommend', 'record', 'recorded', 'recording', 'reel', 'reference', 'refund', 'reinstalled', 'relationship', 'relatives', 'reliable', 'reliably', 'relief', 'reluctantly', 'remain', 'remastered', 'remember', 'remote', 'removed', 'renaissance', 'rendering', 'rental', 'repalcement', 'repeatedly', 'replace', 'replicate', 'represents', 'requires', 'rescue', 'research', 'resolution', 'response', 'rest', 'result', 'results', 'return', 'returned', 'returning', 'returns', 'reveal', 'review', 'reviewer', 'reviewers', 'reviews', 'revolted', 'revolution', 'riddance', 'ridiculous', 'right', 'ripped', 'risk', 'rock', 'rolled', 'romance', 'romania', 'romanian', 'room', 'rotten', 'rubbing', 'rubbish', 'ruined', 'run', 'sadly', 'said', 'san', 'satiric', 'satriani', 'save', 'saved', 'saw', 'say', 'says', 'scandal', 'scene', 'scenes', 'schlock', 'school', 'scraped', 'scrapes', 'scraping', 'scratches', 'screen', 'script', 'searched', 'seasoned', 'second', 'secondary', 'secret', 'section', 'sections', 'securing', 'sedentary', 'see', 'seem', 'seems', 'seen', 'segment', 'segments', 'self', 'sell', 'seller', 'sells', 'send', 'sends', 'sense', 'sent', 'sentence', 'separate', 'sequence', 'series', 'serious', 'seriously', 'session', 'sessions', 'set', 'several', 'sex', 'shaken', 'sham', 'shame', 'she', 'shed', 'sheer', 'sheets', 'shipped', 'shipping', 'shock', 'shoe', 'shoes', 'short', 'should', 'showing', 'shows', 'shrink', 'side', 'sided', 'silly', 'similar', 'simple', 'since', 'sing', 'singers', 'single', 'singles', 'sink', 'sister', 'sit', 'site', 'sits', 'situation', 'size', 'sizes', 'sketches', 'skills', 'skip', 'skipping', 'slides', 'slow', 'small', 'smaller', 'smells', 'smooth', 'so', 'sobbing', 'software', 'soldiers', 'sole', 'solid', 'solitude', 'solution', 'some', 'sometimes', 'somewhere', 'son', 'song', 'songs', 'sony', 'soon', 'sounding', 'sounds', 'soundtrack', 'sources', 'sourdough', 'southern', 'space', 'spans', 'sparkling', 'speaker', 'spealling', 'specific', 'spelling', 'spend', 'spent', 'sperry', 'spot', 'stage', 'stages', 'standard', 'star', 'starlite', 'stars', 'start', 'started', 'starting', 'stated', 'statesman', 'stay', 'stays', 'steer', 'stiff', 'stock', 'stocking', 'stockings', 'store', 'stores', 'stories', 'story', 'straight', 'strange', 'strap', 'street', 'strikes', 'structure', 'structures', 'struggled', 'students', 'stuff', 'stuffi', 'stupid', 'style', 'sub', 'substitute', 'suggest', 'sung', 'superb', 'supply', 'support', 'sure', 'surf', 'surface', 'surfer', 'surfers', 'surprised', 'surrounding', 'survive', 'suspect', 'suspense', 'suspiscious', 'sweet', 'synthesizers', 'system', 'take', 'takes', 'taking', 'talent', 'tape', 'tapes', 'tarzan', 'task', 'tasks', 'teach', 'technical', 'teething', 'tel', 'tell', 'tells', 'temperature', 'ten', 'tenon', 'term', 'terrible', 'tess', 'text', 'thai', 'that', 'the', 'theatre', 'them', 'then', 'theories', 'there', 'they', 'thin', 'thing', 'things', 'think', 'thinking', 'this', 'those', 'thought', 'three', 'throw', 'throwing', 'thru', 'timber', 'timbre', 'time', 'title', 'titled', 'to', 'today', 'toe', 'tokyo', 'told', 'tome', 'tone', 'tones', 'too', 'took', 'tool', 'top', 'topper', 'tore', 'toreturn', 'total', 'totally', 'touched', 'tour', 'tourist', 'towards', 'town', 'toy', 'tracked', 'tracks', 'traditional', 'trailer', 'transfer', 'transition', 'trash', 'travel', 'trials', 'tried', 'trouble', 'troubleshooting', 'true', 'truly', 'trust', 'try', 'trying', 'turn', 'tv', 'twelve', 'twice', 'twin', 'twins', 'two', 'types', 'typo', 'typographical', 'uh', 'ultrasheer', 'unasked', 'unbelievable', 'uncomfortable', 'under', 'underpowered', 'understand', 'unfolded', 'unfortunately', 'unheard', 'unintentionally', 'unit', 'units', 'universal', 'unprofessional', 'unreliable', 'unsuccessfully', 'up', 'urges', 'use', 'used', 'useless', 'user', 'username', 'using', 'utterly', 'vague', 'vaguely', 'various', 've', 'vehicle', 'veil', 'vendor', 'veronica', 'version', 'versions', 'via', 'vibe', 'video', 'videos', 'view', 'vignettes', 'virtues', 'visuals', 'vivendi', 'vocabulary', 'vocalists', 'voice', 'voices', 'volume', 'wait', 'want', 'wanted', 'wanting', 'warrant', 'wars', 'was', 'washes', 'wasn', 'waste', 'wasting', 'watch', 'water', 'waterproff', 'waterproof', 'wave', 'way', 'we', 'weak', 'wear', 'wedding', 'week', 'weeping', 'well', 'went', 'weren', 'what', 'whether', 'which', 'while', 'white', 'whiz', 'why', 'wife', 'wild', 'wilding', 'windows', 'winning', 'wish', 'wishing', 'with', 'within', 'wittiest', 'wm', 'women', 'won', 'wonder', 'wondering', 'wood', 'work', 'worked', 'works', 'world', 'worn', 'worse', 'worst', 'worth', 'wouldn', 'wrap', 'wraps', 'wriiten', 'write', 'writing', 'written', 'wrong', 'wrote', 'xylaphone', 'yankee', 'year', 'years', 'yes', 'yields', 'yoruba', 'you', 'young', 'youtube']\n",
            "[[2 1 1 ... 5 1 1]]\n",
            "3200\n"
          ],
          "name": "stdout"
        }
      ]
    },
    {
      "cell_type": "markdown",
      "metadata": {
        "id": "IyI5Xy5oPgwP",
        "colab_type": "text"
      },
      "source": [
        "**P(Word | Class) Calculation** \n",
        "\n",
        "---\n",
        "\n"
      ]
    },
    {
      "cell_type": "code",
      "metadata": {
        "id": "4f8iruWkIJzR",
        "colab_type": "code",
        "colab": {}
      },
      "source": [
        "pos_dict = {}\n",
        "neg_dict = {}\n",
        "\n",
        "for i in range(len(pos_feature_names)):\n",
        "  word_ratio = pos_word_rep[0][i]/pos_word_numbers\n",
        "  pos_dict.update({pos_feature_names[i] : word_ratio})\n",
        "\n",
        "for i in range(len(neg_feature_names)):\n",
        "  word_ratio = neg_word_rep[0][i]/neg_word_numbers\n",
        "  neg_dict.update({neg_feature_names[i] : word_ratio})\n"
      ],
      "execution_count": 0,
      "outputs": []
    },
    {
      "cell_type": "markdown",
      "metadata": {
        "id": "jbgyhnUOPueA",
        "colab_type": "text"
      },
      "source": [
        "**P(Class) Calculation**\n",
        "\n",
        "---\n",
        "\n"
      ]
    },
    {
      "cell_type": "code",
      "metadata": {
        "id": "1r9Frx33G2lc",
        "colab_type": "code",
        "colab": {}
      },
      "source": [
        "count = np.array(train['Label'].value_counts())\n",
        "\n",
        "positive_label_prop = count[0]/train.shape[0]\n",
        "negative_label_prop = count[1]/train.shape[0]"
      ],
      "execution_count": 0,
      "outputs": []
    },
    {
      "cell_type": "markdown",
      "metadata": {
        "id": "EQoZ2d7UNtQm",
        "colab_type": "text"
      },
      "source": [
        "# Classification"
      ]
    },
    {
      "cell_type": "markdown",
      "metadata": {
        "id": "RmagtlnqQAeo",
        "colab_type": "text"
      },
      "source": [
        "**Reading Test Data**\n",
        "\n",
        "---\n",
        "\n"
      ]
    },
    {
      "cell_type": "code",
      "metadata": {
        "id": "0Zg9cNklNE_r",
        "colab_type": "code",
        "colab": {}
      },
      "source": [
        "test = pd.read_csv(\"reviews_test.csv\")"
      ],
      "execution_count": 0,
      "outputs": []
    },
    {
      "cell_type": "markdown",
      "metadata": {
        "id": "Uff-4yZSRROr",
        "colab_type": "text"
      },
      "source": [
        "**Cleaning: Lower Case and Stopwords Elimination**\n",
        "\n",
        "---\n",
        "\n"
      ]
    },
    {
      "cell_type": "code",
      "metadata": {
        "id": "ua0rbXBjQh0W",
        "colab_type": "code",
        "colab": {}
      },
      "source": [
        "testTxt = test['Review']\n",
        "\n",
        "for i in range(testTxt.size):\n",
        "  testTxt[i] = testTxt[i].lower()\n",
        "\n",
        "\n",
        "for i in range(testTxt.size):\n",
        "  testTxt[i] = testTxt[i].split()\n",
        "  newWords = []\n",
        "  for word in testTxt[i]:\n",
        "    if word not in stopWords:\n",
        "      newWords.append(word)\n",
        "  \n",
        "  test['Review'][i] = ' '.join(newWords)\n",
        "  testTxt[i] = ' '.join(newWords)"
      ],
      "execution_count": 0,
      "outputs": []
    },
    {
      "cell_type": "markdown",
      "metadata": {
        "id": "aXlO0jAkR6Jk",
        "colab_type": "text"
      },
      "source": [
        "**Classification --> P(Word | Class).P(Class)**\n",
        "\n",
        "---\n",
        "Normal Method"
      ]
    },
    {
      "cell_type": "code",
      "metadata": {
        "id": "LBwnnWVJVuB0",
        "colab_type": "code",
        "outputId": "12e3837f-ffed-464e-91a8-628ca2a897cd",
        "colab": {
          "base_uri": "https://localhost:8080/",
          "height": 129
        }
      },
      "source": [
        "predicted = []\n",
        "for i in range(len(testTxt)): # INITIALIZATION OF PREDICT ARRAY\n",
        "  predicted.append(i)         \n",
        "\n",
        "\n",
        "for i in range(len(testTxt)):\n",
        "  sentence_split = testTxt[i]\n",
        "  sentence_split = sentence_split.split()\n",
        "\n",
        "  ### positive possibility ###\n",
        "  positive_probability = 1\n",
        "  for j in range(len(sentence_split)):\n",
        "    if sentence_split[j] in pos_dict:\n",
        "      positive_probability *= pos_dict[sentence_split[j]]\n",
        "    else:\n",
        "      positive_probability *= 0\n",
        "  final_pos_prob = -np.log(positive_probability) * positive_label_prop\n",
        "  \n",
        "  ### negative possibility ###\n",
        "  negative_probability = 1\n",
        "  for j in range(len(sentence_split)):\n",
        "    if sentence_split[j] in neg_dict:\n",
        "      negative_probability *= neg_dict[sentence_split[j]]\n",
        "    else:\n",
        "      negative_probability *= 0\n",
        "  final_neg_prob = -np.log(negative_probability) * negative_label_prop\n",
        "\n",
        "  if final_pos_prob < final_neg_prob:\n",
        "    predicted[i] = 'pos'\n",
        "  elif(final_pos_prob > final_neg_prob):\n",
        "    predicted[i] = 'neg'\n",
        "  else:\n",
        "    predicted[i] = 'unknown'\n",
        "print('')\n",
        "print('Labels are : {}'.format(predicted))\n",
        "print('') \n"
      ],
      "execution_count": 53,
      "outputs": [
        {
          "output_type": "stream",
          "text": [
            "\n",
            "Labels are : ['unknown', 'unknown', 'unknown', 'unknown', 'unknown', 'unknown', 'unknown', 'unknown', 'unknown', 'unknown', 'unknown', 'unknown', 'unknown', 'unknown', 'unknown', 'unknown', 'unknown', 'unknown', 'unknown', 'unknown']\n",
            "\n"
          ],
          "name": "stdout"
        },
        {
          "output_type": "stream",
          "text": [
            "/usr/local/lib/python3.6/dist-packages/ipykernel_launcher.py:17: RuntimeWarning: divide by zero encountered in log\n",
            "/usr/local/lib/python3.6/dist-packages/ipykernel_launcher.py:26: RuntimeWarning: divide by zero encountered in log\n"
          ],
          "name": "stderr"
        }
      ]
    },
    {
      "cell_type": "markdown",
      "metadata": {
        "id": "9HISzNfERmkX",
        "colab_type": "text"
      },
      "source": [
        "**Accuracy**\n",
        "\n",
        "---\n",
        "\n"
      ]
    },
    {
      "cell_type": "code",
      "metadata": {
        "id": "Wc9A546qRjxp",
        "colab_type": "code",
        "colab": {
          "base_uri": "https://localhost:8080/",
          "height": 35
        },
        "outputId": "699f707e-fddf-425d-b198-5fdf187657e4"
      },
      "source": [
        "cnt = 0\n",
        "for i in range(len(test['Label'].values)):\n",
        "  if predicted[i] == test['Label'][i]:\n",
        "    cnt += 1\n",
        "print(\"Accuracy without Laplace Smoothing is: {}%\".format(cnt * 100 / len(test['Label'])))"
      ],
      "execution_count": 54,
      "outputs": [
        {
          "output_type": "stream",
          "text": [
            "Accuracy without Laplace Smoothing is: 0.0%\n"
          ],
          "name": "stdout"
        }
      ]
    },
    {
      "cell_type": "markdown",
      "metadata": {
        "id": "-ENZbKI065-4",
        "colab_type": "text"
      },
      "source": [
        "# Laplace Smoothing\n",
        "---\n",
        "alpha = 1"
      ]
    },
    {
      "cell_type": "code",
      "metadata": {
        "id": "O0mfvuED6-T_",
        "colab_type": "code",
        "outputId": "234d2247-4ea1-4de9-b2ee-c2e023f1121d",
        "colab": {
          "base_uri": "https://localhost:8080/",
          "height": 129
        }
      },
      "source": [
        "alpha = 1\n",
        "predicted = []\n",
        "for i in range(len(testTxt)): # INITIALIZATION OF PREDICT ARRAY\n",
        "  predicted.append(i)         \n",
        "\n",
        "\n",
        "for i in range(len(testTxt)):\n",
        "  sentence_split = testTxt[i]\n",
        "  sentence_split = sentence_split.split()\n",
        "\n",
        "  ### positive possibility ###\n",
        "  positive_probability = 1\n",
        "  for j in range(len(sentence_split)):\n",
        "    if sentence_split[j] in pos_feature_names:\n",
        "      position = pos_feature_names.index(sentence_split[j])\n",
        "      repetition = pos_word_rep[0][position]\n",
        "      positive_probability *= ( (repetition + 1)/(pos_word_numbers + alpha) )\n",
        "    else:\n",
        "      positive_probability *= ( 1 / (pos_word_numbers + alpha) )\n",
        "  final_pos_prob = -np.log(positive_probability) * positive_label_prop\n",
        "\n",
        "  \n",
        "  ### negative possibility ###\n",
        "  negative_probability = 1\n",
        "  for j in range(len(sentence_split)):\n",
        "    if sentence_split[j] in neg_feature_names:\n",
        "      position = neg_feature_names.index(sentence_split[j])\n",
        "      repetition = neg_word_rep[0][position]\n",
        "      negative_probability *= ( (repetition + 1)/(neg_word_numbers + alpha) )\n",
        "    else:\n",
        "      negative_probability *= ( 1 / (neg_word_numbers + alpha) )\n",
        "  final_neg_prob = -np.log(negative_probability) * negative_label_prop\n",
        "  \n",
        "  if final_pos_prob > final_neg_prob :\n",
        "    predicted[i] = 'neg'\n",
        "  elif final_pos_prob < final_neg_prob :\n",
        "    predicted[i] = 'pos'\n",
        "  else:\n",
        "    predicted[i] = 'unknown'\n",
        "  \n",
        "\n",
        "print('')\n",
        "print('Labels are : {}'.format(predicted))\n",
        "print('') "
      ],
      "execution_count": 50,
      "outputs": [
        {
          "output_type": "stream",
          "text": [
            "\n",
            "Labels are : ['unknown', 'neg', 'neg', 'neg', 'neg', 'neg', 'neg', 'neg', 'neg', 'neg', 'neg', 'neg', 'neg', 'neg', 'neg', 'neg', 'neg', 'neg', 'neg', 'neg']\n",
            "\n"
          ],
          "name": "stdout"
        },
        {
          "output_type": "stream",
          "text": [
            "/usr/local/lib/python3.6/dist-packages/ipykernel_launcher.py:20: RuntimeWarning: divide by zero encountered in log\n",
            "/usr/local/lib/python3.6/dist-packages/ipykernel_launcher.py:32: RuntimeWarning: divide by zero encountered in log\n"
          ],
          "name": "stderr"
        }
      ]
    },
    {
      "cell_type": "markdown",
      "metadata": {
        "id": "tMQWuV0VFLGR",
        "colab_type": "text"
      },
      "source": [
        "**Accuracy**\n",
        "\n",
        "\n",
        "---\n",
        "\n"
      ]
    },
    {
      "cell_type": "code",
      "metadata": {
        "id": "jpzU__lJEhQl",
        "colab_type": "code",
        "outputId": "a2b4279f-8c69-42b5-bc61-c62e2f779613",
        "colab": {
          "base_uri": "https://localhost:8080/",
          "height": 35
        }
      },
      "source": [
        "cnt = 0\n",
        "for i in range(len(test['Label'].values)):\n",
        "  if predicted[i] == test['Label'][i]:\n",
        "    cnt += 1\n",
        "print(\"Accuracy with Laplace Smoothing is: {}%\".format(cnt * 100 / len(test['Label'])))"
      ],
      "execution_count": 51,
      "outputs": [
        {
          "output_type": "stream",
          "text": [
            "Accuracy with Laplace Smoothing is: 50.0%\n"
          ],
          "name": "stdout"
        }
      ]
    }
  ]
}